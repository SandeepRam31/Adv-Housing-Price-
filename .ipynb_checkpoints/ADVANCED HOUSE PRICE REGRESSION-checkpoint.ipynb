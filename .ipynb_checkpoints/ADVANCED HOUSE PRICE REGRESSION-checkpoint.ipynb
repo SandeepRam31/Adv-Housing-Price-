{
 "cells": [
  {
   "cell_type": "code",
   "execution_count": 1,
   "metadata": {},
   "outputs": [],
   "source": [
    "import pandas as pd\n",
    "import numpy as np\n",
    "import matplotlib.pyplot as plt\n",
    "import seaborn as sns\n",
    "import warnings\n",
    "warnings.filterwarnings('ignore')"
   ]
  },
  {
   "cell_type": "code",
   "execution_count": 2,
   "metadata": {},
   "outputs": [],
   "source": [
    "data = pd.read_csv(r'./data/train (1).csv')\n",
    "train = data.copy()\n",
    "test = pd.read_csv(r'./data/test (1).csv')"
   ]
  },
  {
   "cell_type": "code",
   "execution_count": 3,
   "metadata": {},
   "outputs": [
    {
     "data": {
      "text/plain": [
       "81"
      ]
     },
     "execution_count": 3,
     "metadata": {},
     "output_type": "execute_result"
    }
   ],
   "source": [
    "len(train.columns)"
   ]
  },
  {
   "cell_type": "code",
   "execution_count": 4,
   "metadata": {},
   "outputs": [
    {
     "name": "stdout",
     "output_type": "stream",
     "text": [
      "<class 'pandas.core.frame.DataFrame'>\n",
      "RangeIndex: 1460 entries, 0 to 1459\n",
      "Data columns (total 81 columns):\n",
      "Id               1460 non-null int64\n",
      "MSSubClass       1460 non-null int64\n",
      "MSZoning         1460 non-null object\n",
      "LotFrontage      1201 non-null float64\n",
      "LotArea          1460 non-null int64\n",
      "Street           1460 non-null object\n",
      "Alley            91 non-null object\n",
      "LotShape         1460 non-null object\n",
      "LandContour      1460 non-null object\n",
      "Utilities        1460 non-null object\n",
      "LotConfig        1460 non-null object\n",
      "LandSlope        1460 non-null object\n",
      "Neighborhood     1460 non-null object\n",
      "Condition1       1460 non-null object\n",
      "Condition2       1460 non-null object\n",
      "BldgType         1460 non-null object\n",
      "HouseStyle       1460 non-null object\n",
      "OverallQual      1460 non-null int64\n",
      "OverallCond      1460 non-null int64\n",
      "YearBuilt        1460 non-null int64\n",
      "YearRemodAdd     1460 non-null int64\n",
      "RoofStyle        1460 non-null object\n",
      "RoofMatl         1460 non-null object\n",
      "Exterior1st      1460 non-null object\n",
      "Exterior2nd      1460 non-null object\n",
      "MasVnrType       1452 non-null object\n",
      "MasVnrArea       1452 non-null float64\n",
      "ExterQual        1460 non-null object\n",
      "ExterCond        1460 non-null object\n",
      "Foundation       1460 non-null object\n",
      "BsmtQual         1423 non-null object\n",
      "BsmtCond         1423 non-null object\n",
      "BsmtExposure     1422 non-null object\n",
      "BsmtFinType1     1423 non-null object\n",
      "BsmtFinSF1       1460 non-null int64\n",
      "BsmtFinType2     1422 non-null object\n",
      "BsmtFinSF2       1460 non-null int64\n",
      "BsmtUnfSF        1460 non-null int64\n",
      "TotalBsmtSF      1460 non-null int64\n",
      "Heating          1460 non-null object\n",
      "HeatingQC        1460 non-null object\n",
      "CentralAir       1460 non-null object\n",
      "Electrical       1459 non-null object\n",
      "1stFlrSF         1460 non-null int64\n",
      "2ndFlrSF         1460 non-null int64\n",
      "LowQualFinSF     1460 non-null int64\n",
      "GrLivArea        1460 non-null int64\n",
      "BsmtFullBath     1460 non-null int64\n",
      "BsmtHalfBath     1460 non-null int64\n",
      "FullBath         1460 non-null int64\n",
      "HalfBath         1460 non-null int64\n",
      "BedroomAbvGr     1460 non-null int64\n",
      "KitchenAbvGr     1460 non-null int64\n",
      "KitchenQual      1460 non-null object\n",
      "TotRmsAbvGrd     1460 non-null int64\n",
      "Functional       1460 non-null object\n",
      "Fireplaces       1460 non-null int64\n",
      "FireplaceQu      770 non-null object\n",
      "GarageType       1379 non-null object\n",
      "GarageYrBlt      1379 non-null float64\n",
      "GarageFinish     1379 non-null object\n",
      "GarageCars       1460 non-null int64\n",
      "GarageArea       1460 non-null int64\n",
      "GarageQual       1379 non-null object\n",
      "GarageCond       1379 non-null object\n",
      "PavedDrive       1460 non-null object\n",
      "WoodDeckSF       1460 non-null int64\n",
      "OpenPorchSF      1460 non-null int64\n",
      "EnclosedPorch    1460 non-null int64\n",
      "3SsnPorch        1460 non-null int64\n",
      "ScreenPorch      1460 non-null int64\n",
      "PoolArea         1460 non-null int64\n",
      "PoolQC           7 non-null object\n",
      "Fence            281 non-null object\n",
      "MiscFeature      54 non-null object\n",
      "MiscVal          1460 non-null int64\n",
      "MoSold           1460 non-null int64\n",
      "YrSold           1460 non-null int64\n",
      "SaleType         1460 non-null object\n",
      "SaleCondition    1460 non-null object\n",
      "SalePrice        1460 non-null int64\n",
      "dtypes: float64(3), int64(35), object(43)\n",
      "memory usage: 924.0+ KB\n"
     ]
    }
   ],
   "source": [
    "train.info()"
   ]
  },
  {
   "cell_type": "markdown",
   "metadata": {},
   "source": [
    "Pct Missing Values"
   ]
  },
  {
   "cell_type": "code",
   "execution_count": 5,
   "metadata": {},
   "outputs": [
    {
     "name": "stdout",
     "output_type": "stream",
     "text": [
      "Id :  0.0\n",
      "MSSubClass :  0.0\n",
      "MSZoning :  0.0\n",
      "LotFrontage :  17.73972602739726\n",
      "LotArea :  0.0\n",
      "Street :  0.0\n",
      "Alley :  93.76712328767124\n",
      "LotShape :  0.0\n",
      "LandContour :  0.0\n",
      "Utilities :  0.0\n",
      "LotConfig :  0.0\n",
      "LandSlope :  0.0\n",
      "Neighborhood :  0.0\n",
      "Condition1 :  0.0\n",
      "Condition2 :  0.0\n",
      "BldgType :  0.0\n",
      "HouseStyle :  0.0\n",
      "OverallQual :  0.0\n",
      "OverallCond :  0.0\n",
      "YearBuilt :  0.0\n",
      "YearRemodAdd :  0.0\n",
      "RoofStyle :  0.0\n",
      "RoofMatl :  0.0\n",
      "Exterior1st :  0.0\n",
      "Exterior2nd :  0.0\n",
      "MasVnrType :  0.547945205479452\n",
      "MasVnrArea :  0.547945205479452\n",
      "ExterQual :  0.0\n",
      "ExterCond :  0.0\n",
      "Foundation :  0.0\n",
      "BsmtQual :  2.5342465753424657\n",
      "BsmtCond :  2.5342465753424657\n",
      "BsmtExposure :  2.6027397260273974\n",
      "BsmtFinType1 :  2.5342465753424657\n",
      "BsmtFinSF1 :  0.0\n",
      "BsmtFinType2 :  2.6027397260273974\n",
      "BsmtFinSF2 :  0.0\n",
      "BsmtUnfSF :  0.0\n",
      "TotalBsmtSF :  0.0\n",
      "Heating :  0.0\n",
      "HeatingQC :  0.0\n",
      "CentralAir :  0.0\n",
      "Electrical :  0.0684931506849315\n",
      "1stFlrSF :  0.0\n",
      "2ndFlrSF :  0.0\n",
      "LowQualFinSF :  0.0\n",
      "GrLivArea :  0.0\n",
      "BsmtFullBath :  0.0\n",
      "BsmtHalfBath :  0.0\n",
      "FullBath :  0.0\n",
      "HalfBath :  0.0\n",
      "BedroomAbvGr :  0.0\n",
      "KitchenAbvGr :  0.0\n",
      "KitchenQual :  0.0\n",
      "TotRmsAbvGrd :  0.0\n",
      "Functional :  0.0\n",
      "Fireplaces :  0.0\n",
      "FireplaceQu :  47.26027397260274\n",
      "GarageType :  5.5479452054794525\n",
      "GarageYrBlt :  5.5479452054794525\n",
      "GarageFinish :  5.5479452054794525\n",
      "GarageCars :  0.0\n",
      "GarageArea :  0.0\n",
      "GarageQual :  5.5479452054794525\n",
      "GarageCond :  5.5479452054794525\n",
      "PavedDrive :  0.0\n",
      "WoodDeckSF :  0.0\n",
      "OpenPorchSF :  0.0\n",
      "EnclosedPorch :  0.0\n",
      "3SsnPorch :  0.0\n",
      "ScreenPorch :  0.0\n",
      "PoolArea :  0.0\n",
      "PoolQC :  99.52054794520548\n",
      "Fence :  80.75342465753425\n",
      "MiscFeature :  96.3013698630137\n",
      "MiscVal :  0.0\n",
      "MoSold :  0.0\n",
      "YrSold :  0.0\n",
      "SaleType :  0.0\n",
      "SaleCondition :  0.0\n",
      "SalePrice :  0.0\n",
      "Number of columns with missing values = 19\n"
     ]
    }
   ],
   "source": [
    "missing_cols = []\n",
    "\n",
    "for col in data.columns:\n",
    "    print(col, ': ', (data[col].isnull().sum())*100/len(train))\n",
    "    \n",
    "    if train[col].isnull().sum()>0:\n",
    "        missing_cols.append((col, np.floor((train[col].isnull().sum())*100/len(train))))\n",
    "        \n",
    "print('Number of columns with missing values = {}'.format(len(missing_cols)))"
   ]
  },
  {
   "cell_type": "markdown",
   "metadata": {},
   "source": [
    "## Target Column:"
   ]
  },
  {
   "cell_type": "code",
   "execution_count": 6,
   "metadata": {},
   "outputs": [
    {
     "data": {
      "text/plain": [
       "<matplotlib.axes._subplots.AxesSubplot at 0x10ba0794470>"
      ]
     },
     "execution_count": 6,
     "metadata": {},
     "output_type": "execute_result"
    },
    {
     "data": {
      "image/png": "[encoded data removed]",
      "text/plain": [
       "<Figure size 432x288 with 1 Axes>"
      ]
     },
     "metadata": {
      "needs_background": "light"
     },
     "output_type": "display_data"
    }
   ],
   "source": [
    "sns.kdeplot(data['SalePrice'], shade = True, color = 'r')"
   ]
  },
  {
   "cell_type": "markdown",
   "metadata": {},
   "source": [
    "We can see a gaussian distribution of data"
   ]
  },
  {
   "cell_type": "code",
   "execution_count": 7,
   "metadata": {},
   "outputs": [],
   "source": [
    "train['log_sale'] = np.log(train['SalePrice'])"
   ]
  },
  {
   "cell_type": "code",
   "execution_count": 8,
   "metadata": {},
   "outputs": [
    {
     "data": {
      "text/plain": [
       "<matplotlib.axes._subplots.AxesSubplot at 0x10ba08cd940>"
      ]
     },
     "execution_count": 8,
     "metadata": {},
     "output_type": "execute_result"
    },
    {
     "data": {
      "image/png": "[encoded data removed]",
      "text/plain": [
       "<Figure size 432x288 with 1 Axes>"
      ]
     },
     "metadata": {
      "needs_background": "light"
     },
     "output_type": "display_data"
    }
   ],
   "source": [
    "sns.kdeplot(train['log_sale'], shade = True, color = 'b')"
   ]
  },
  {
   "cell_type": "code",
   "execution_count": 9,
   "metadata": {},
   "outputs": [
    {
     "data": {
      "text/plain": [
       "<matplotlib.axes._subplots.AxesSubplot at 0x10ba0bb1da0>"
      ]
     },
     "execution_count": 9,
     "metadata": {},
     "output_type": "execute_result"
    },
    {
     "data": {
      "image/png": "[encoded data removed]",
      "text/plain": [
       "<Figure size 432x288 with 1 Axes>"
      ]
     },
     "metadata": {
      "needs_background": "light"
     },
     "output_type": "display_data"
    }
   ],
   "source": [
    "sns.distplot(train['SalePrice'], bins = 10, kde = False, color = 'r')"
   ]
  },
  {
   "cell_type": "markdown",
   "metadata": {},
   "source": [
    "## Handling missing Data:"
   ]
  },
  {
   "cell_type": "markdown",
   "metadata": {},
   "source": [
    "### Large missing data percentage"
   ]
  },
  {
   "cell_type": "code",
   "execution_count": 10,
   "metadata": {},
   "outputs": [
    {
     "name": "stdout",
     "output_type": "stream",
     "text": [
      "Alley\n",
      "PoolQC\n",
      "Fence\n",
      "MiscFeature\n"
     ]
    }
   ],
   "source": [
    "for col in train.columns:\n",
    "    if train[col].isnull().sum()*100/len(train) >= 60:\n",
    "        print(col)"
   ]
  },
  {
   "cell_type": "markdown",
   "metadata": {},
   "source": [
    "In these columns lets impute 'AB' as a category to indicate missing"
   ]
  },
  {
   "cell_type": "code",
   "execution_count": 11,
   "metadata": {},
   "outputs": [],
   "source": [
    "for col in train.columns:\n",
    "    if train[col].isnull().sum()*100/len(train) >= 60:\n",
    "        train[col].fillna('AB', inplace = True)"
   ]
  },
  {
   "cell_type": "markdown",
   "metadata": {},
   "source": [
    "### LotFrontage"
   ]
  },
  {
   "cell_type": "code",
   "execution_count": 12,
   "metadata": {},
   "outputs": [
    {
     "data": {
      "text/plain": [
       "110"
      ]
     },
     "execution_count": 12,
     "metadata": {},
     "output_type": "execute_result"
    }
   ],
   "source": [
    "train['LotFrontage'].nunique()"
   ]
  },
  {
   "cell_type": "markdown",
   "metadata": {},
   "source": [
    "From meta-data we know that LotFrontage means the Linear feet of street connected to property. Thus it is not a categorical value"
   ]
  },
  {
   "cell_type": "markdown",
   "metadata": {},
   "source": [
    "This must be dependent on the neighborhood where the house is located so lets take the mean value of LotFrontAge in that neighborhood"
   ]
  },
  {
   "cell_type": "code",
   "execution_count": 13,
   "metadata": {},
   "outputs": [],
   "source": [
    "mean_lf = pd.DataFrame(train.groupby(\"Neighborhood\")[\"LotFrontage\"].mean())"
   ]
  },
  {
   "cell_type": "code",
   "execution_count": 14,
   "metadata": {},
   "outputs": [],
   "source": [
    "def impute_lf(cols):\n",
    "    \n",
    "    a, b = cols\n",
    "    if pd.isnull(b):    \n",
    "        return mean_lf.loc[a][0]\n",
    "    else:\n",
    "        return b"
   ]
  },
  {
   "cell_type": "code",
   "execution_count": 15,
   "metadata": {},
   "outputs": [],
   "source": [
    "train['LotFrontage'] = train[['Neighborhood', 'LotFrontage']].apply(impute_lf, axis = 1)"
   ]
  },
  {
   "cell_type": "markdown",
   "metadata": {},
   "source": [
    "### Bsmt Columns: Qual, Cond, Exposure, FinType1, FinType2"
   ]
  },
  {
   "cell_type": "markdown",
   "metadata": {},
   "source": [
    "From looking at the percentage of missing data, each of these columns are missing the exact same number of values. \n",
    "Lets see if one column missing a data point implies missing data in all columns"
   ]
  },
  {
   "cell_type": "code",
   "execution_count": 16,
   "metadata": {},
   "outputs": [
    {
     "name": "stdout",
     "output_type": "stream",
     "text": [
      "('BsmtQual', 2.0), ('BsmtCond', 2.0), ('BsmtExposure', 2.0), ('BsmtFinType1', 2.0), ('BsmtFinType2', 2.0), "
     ]
    }
   ],
   "source": [
    "for col in missing_cols:\n",
    "    if 'Bsmt' in str(col):\n",
    "        print(col, end=', ')"
   ]
  },
  {
   "cell_type": "code",
   "execution_count": 17,
   "metadata": {},
   "outputs": [],
   "source": [
    "subset = train[train['BsmtQual'].isnull()][['BsmtQual', 'BsmtCond', 'BsmtExposure', 'BsmtFinType1', 'BsmtFinType2']]"
   ]
  },
  {
   "cell_type": "code",
   "execution_count": 18,
   "metadata": {},
   "outputs": [
    {
     "name": "stdout",
     "output_type": "stream",
     "text": [
      "[nan]\n",
      "[nan]\n",
      "[nan]\n",
      "[nan]\n",
      "[nan]\n"
     ]
    }
   ],
   "source": [
    "for col in subset.columns:\n",
    "    print(subset[col].unique())"
   ]
  },
  {
   "cell_type": "markdown",
   "metadata": {},
   "source": [
    "Thus all the columns have missing values if any one has missing value"
   ]
  },
  {
   "cell_type": "markdown",
   "metadata": {},
   "source": [
    "Lets find out more about the type of data in each of these columns"
   ]
  },
  {
   "cell_type": "code",
   "execution_count": 19,
   "metadata": {},
   "outputs": [
    {
     "name": "stdout",
     "output_type": "stream",
     "text": [
      "BsmtQual :  4\n",
      "BsmtCond :  4\n",
      "BsmtExposure :  4\n",
      "BsmtFinType1 :  6\n",
      "BsmtFinType2 :  6\n"
     ]
    }
   ],
   "source": [
    "for cols in subset.columns:\n",
    "    print(cols, ': ', train[cols].nunique())"
   ]
  },
  {
   "cell_type": "markdown",
   "metadata": {},
   "source": [
    "These are all categorical columns"
   ]
  },
  {
   "cell_type": "code",
   "execution_count": 20,
   "metadata": {},
   "outputs": [
    {
     "data": {
      "text/plain": [
       "17     0\n",
       "39     0\n",
       "90     0\n",
       "102    0\n",
       "156    0\n",
       "Name: TotalBsmtSF, dtype: int64"
      ]
     },
     "execution_count": 20,
     "metadata": {},
     "output_type": "execute_result"
    }
   ],
   "source": [
    "train[train['BsmtQual'].isnull()]['TotalBsmtSF'].head()"
   ]
  },
  {
   "cell_type": "markdown",
   "metadata": {},
   "source": [
    "The total basement area in these case is 0, which means that basement is absent"
   ]
  },
  {
   "cell_type": "markdown",
   "metadata": {},
   "source": [
    "Lets impute 'AB' to indicate absence of basement in these columns:"
   ]
  },
  {
   "cell_type": "code",
   "execution_count": 21,
   "metadata": {},
   "outputs": [],
   "source": [
    "for col in subset.columns:\n",
    "    train[col] = train[col].fillna('AB')"
   ]
  },
  {
   "cell_type": "markdown",
   "metadata": {},
   "source": [
    "Lets create a column to indicate absence of basement"
   ]
  },
  {
   "cell_type": "code",
   "execution_count": 22,
   "metadata": {},
   "outputs": [],
   "source": [
    "train['basement'] = 0"
   ]
  },
  {
   "cell_type": "code",
   "execution_count": 23,
   "metadata": {},
   "outputs": [],
   "source": [
    "def impute_bsmt(cols):\n",
    "    basement, p = cols  \n",
    "    if p == 'AB':\n",
    "        return 0\n",
    "    else:\n",
    "        return 1        "
   ]
  },
  {
   "cell_type": "code",
   "execution_count": 24,
   "metadata": {},
   "outputs": [],
   "source": [
    "train['basement'] = train[['basement', 'BsmtQual']].apply(impute_bsmt, axis = 1)"
   ]
  },
  {
   "cell_type": "code",
   "execution_count": 25,
   "metadata": {},
   "outputs": [
    {
     "data": {
      "text/plain": [
       "0    1\n",
       "1    1\n",
       "2    1\n",
       "3    1\n",
       "4    1\n",
       "Name: basement, dtype: int64"
      ]
     },
     "execution_count": 25,
     "metadata": {},
     "output_type": "execute_result"
    }
   ],
   "source": [
    "train[train['BsmtQual'] != 'AB']['basement'].head()"
   ]
  },
  {
   "cell_type": "markdown",
   "metadata": {},
   "source": [
    "### Fireplace"
   ]
  },
  {
   "cell_type": "code",
   "execution_count": 26,
   "metadata": {},
   "outputs": [
    {
     "data": {
      "text/plain": [
       "array([nan, 'TA', 'Gd', 'Fa', 'Ex', 'Po'], dtype=object)"
      ]
     },
     "execution_count": 26,
     "metadata": {},
     "output_type": "execute_result"
    }
   ],
   "source": [
    "train['FireplaceQu'].unique()"
   ]
  },
  {
   "cell_type": "markdown",
   "metadata": {},
   "source": [
    "The houses with no fireplaces (Fireplaces = 0) have nan values at FireplaceQu"
   ]
  },
  {
   "cell_type": "markdown",
   "metadata": {},
   "source": [
    "Lets make nan as a category NA"
   ]
  },
  {
   "cell_type": "code",
   "execution_count": 27,
   "metadata": {},
   "outputs": [],
   "source": [
    "train['FireplaceQu'].fillna('NA', inplace = True)"
   ]
  },
  {
   "cell_type": "markdown",
   "metadata": {},
   "source": [
    "### Garage\n",
    " GarageYrBlt , GarageCars, GarageQual, GarageType, GarageCond have missing values"
   ]
  },
  {
   "cell_type": "code",
   "execution_count": 28,
   "metadata": {},
   "outputs": [],
   "source": [
    "g_cols = ['GarageYrBlt' , 'GarageCars', 'GarageQual', 'GarageType', 'GarageCond', 'GarageFinish']"
   ]
  },
  {
   "cell_type": "code",
   "execution_count": 29,
   "metadata": {},
   "outputs": [
    {
     "data": {
      "text/html": [
       "<div>\n",
       "<style scoped>\n",
       "    .dataframe tbody tr th:only-of-type {\n",
       "        vertical-align: middle;\n",
       "    }\n",
       "\n",
       "    .dataframe tbody tr th {\n",
       "        vertical-align: top;\n",
       "    }\n",
       "\n",
       "    .dataframe thead th {\n",
       "        text-align: right;\n",
       "    }\n",
       "</style>\n",
       "<table border=\"1\" class=\"dataframe\">\n",
       "  <thead>\n",
       "    <tr style=\"text-align: right;\">\n",
       "      <th></th>\n",
       "      <th>GarageType</th>\n",
       "      <th>GarageArea</th>\n",
       "    </tr>\n",
       "  </thead>\n",
       "  <tbody>\n",
       "    <tr>\n",
       "      <th>39</th>\n",
       "      <td>NaN</td>\n",
       "      <td>0</td>\n",
       "    </tr>\n",
       "    <tr>\n",
       "      <th>48</th>\n",
       "      <td>NaN</td>\n",
       "      <td>0</td>\n",
       "    </tr>\n",
       "    <tr>\n",
       "      <th>78</th>\n",
       "      <td>NaN</td>\n",
       "      <td>0</td>\n",
       "    </tr>\n",
       "    <tr>\n",
       "      <th>88</th>\n",
       "      <td>NaN</td>\n",
       "      <td>0</td>\n",
       "    </tr>\n",
       "    <tr>\n",
       "      <th>89</th>\n",
       "      <td>NaN</td>\n",
       "      <td>0</td>\n",
       "    </tr>\n",
       "  </tbody>\n",
       "</table>\n",
       "</div>"
      ],
      "text/plain": [
       "   GarageType  GarageArea\n",
       "39        NaN           0\n",
       "48        NaN           0\n",
       "78        NaN           0\n",
       "88        NaN           0\n",
       "89        NaN           0"
      ]
     },
     "execution_count": 29,
     "metadata": {},
     "output_type": "execute_result"
    }
   ],
   "source": [
    "train[train['GarageType'].isnull()][['GarageType','GarageArea']].head()"
   ]
  },
  {
   "cell_type": "markdown",
   "metadata": {},
   "source": [
    "the garage area is 0 i.e no garage in cases where Garage columns have no value"
   ]
  },
  {
   "cell_type": "code",
   "execution_count": 30,
   "metadata": {},
   "outputs": [
    {
     "name": "stdout",
     "output_type": "stream",
     "text": [
      "97\n",
      "5\n",
      "5\n",
      "6\n",
      "5\n",
      "3\n"
     ]
    }
   ],
   "source": [
    "for cols in g_cols:\n",
    "    print(train[cols].nunique())"
   ]
  },
  {
   "cell_type": "markdown",
   "metadata": {},
   "source": [
    "Lets replace all the nan values by 'AB' to indicate absence of garage, and add a new colume to signify garage absence"
   ]
  },
  {
   "cell_type": "code",
   "execution_count": 31,
   "metadata": {},
   "outputs": [],
   "source": [
    "train[g_cols[0]] = train[g_cols[0]].fillna(0)\n",
    "train[g_cols[1]] = train[g_cols[1]].fillna(0)\n",
    "\n",
    "for col in g_cols[2:]:\n",
    "    train[col] = train[col].fillna('AB')"
   ]
  },
  {
   "cell_type": "code",
   "execution_count": 32,
   "metadata": {},
   "outputs": [],
   "source": [
    "train['garage'] = 1"
   ]
  },
  {
   "cell_type": "code",
   "execution_count": 33,
   "metadata": {},
   "outputs": [],
   "source": [
    "def impute_g(cols):\n",
    "    garage, p = cols  \n",
    "    if garage == 'AB':\n",
    "        return 0\n",
    "    else:\n",
    "        return 1  "
   ]
  },
  {
   "cell_type": "code",
   "execution_count": 34,
   "metadata": {},
   "outputs": [],
   "source": [
    "train['garage'] = train[['garage', 'GarageType']].apply(impute_g, axis = 1)"
   ]
  },
  {
   "cell_type": "markdown",
   "metadata": {},
   "source": [
    "### MasVnr"
   ]
  },
  {
   "cell_type": "markdown",
   "metadata": {},
   "source": [
    "A nan value in these columns indicates missing masonry veneer, thus lets impute them with 0 "
   ]
  },
  {
   "cell_type": "code",
   "execution_count": 35,
   "metadata": {},
   "outputs": [],
   "source": [
    "mv_cols = ['MasVnrType', 'MasVnrArea']\n",
    "\n",
    "train[mv_cols[0]].fillna('AB', inplace = True)\n",
    "train[mv_cols[1]].fillna(0, inplace = True)"
   ]
  },
  {
   "cell_type": "markdown",
   "metadata": {},
   "source": [
    "### Electrical"
   ]
  },
  {
   "cell_type": "code",
   "execution_count": 36,
   "metadata": {},
   "outputs": [
    {
     "data": {
      "text/plain": [
       "1"
      ]
     },
     "execution_count": 36,
     "metadata": {},
     "output_type": "execute_result"
    }
   ],
   "source": [
    "train['Electrical'].isnull().sum()"
   ]
  },
  {
   "cell_type": "markdown",
   "metadata": {},
   "source": [
    "Since only 1 column has missing value here lets drop it"
   ]
  },
  {
   "cell_type": "code",
   "execution_count": 37,
   "metadata": {},
   "outputs": [],
   "source": [
    "train.dropna(inplace = True)"
   ]
  },
  {
   "cell_type": "code",
   "execution_count": 38,
   "metadata": {},
   "outputs": [],
   "source": [
    "for cols in train.columns:\n",
    "    if train[cols].isnull().sum()>0:\n",
    "        print(cols)"
   ]
  },
  {
   "cell_type": "markdown",
   "metadata": {},
   "source": [
    "WE HAVE FINISHED HANDLING MISSING DATA!"
   ]
  },
  {
   "cell_type": "code",
   "execution_count": 39,
   "metadata": {},
   "outputs": [],
   "source": [
    "data_checkpoint_1 = train.copy()"
   ]
  },
  {
   "cell_type": "code",
   "execution_count": 40,
   "metadata": {},
   "outputs": [],
   "source": [
    "train.to_csv(r'./point_1.csv')"
   ]
  },
  {
   "cell_type": "code",
   "execution_count": 41,
   "metadata": {},
   "outputs": [],
   "source": [
    "def missing_pipeline(data):\n",
    "    \n",
    "    set_1 = ['Alley', 'PoolQC', 'Fence', 'MiscFeature']\n",
    "    for cols in set_1:\n",
    "        data[cols] = data[cols].fillna('AB')\n",
    "    \n",
    "    # LotFrontage:\n",
    "    data['LotFrontage'] = data[['Neighborhood', 'LotFrontage']].apply(impute_lf, axis = 1)\n",
    "    \n",
    "    #Basement:\n",
    "    for col in subset.columns:\n",
    "        data[col] = data[col].fillna('AB')\n",
    "    \n",
    "    data['basement'] = 0\n",
    "    \n",
    "    data['basement'] = data[['basement', 'BsmtQual']].apply(impute_bsmt, axis = 1)\n",
    "    \n",
    "    bsmt_num = ['BsmtFinSF1', 'BsmtFinSF2', 'BsmtUnfSF', 'TotalBsmtSF']\n",
    "    \n",
    "    for col in bsmt_num:\n",
    "        data[col].fillna(0, inplace = True)\n",
    "        \n",
    "    bsmt_bath = ['BsmtFullBath', 'BsmtHalfBath']\n",
    "    \n",
    "    for col in bsmt_bath:\n",
    "        data[col] = data[col].fillna(0)\n",
    "        \n",
    "    #FirePlace:\n",
    "    data['FireplaceQu'].fillna('NA', inplace = True)\n",
    "    \n",
    "    #MasVNR\n",
    "    data[mv_cols[0]].fillna('AB', inplace = True)\n",
    "    data[mv_cols[1]].fillna(0, inplace = True)\n",
    "    \n",
    "    #garage\n",
    "    g_cols = ['GarageYrBlt' , 'GarageCars', 'GarageQual', 'GarageType', 'GarageCond', 'GarageFinish']\n",
    "    \n",
    "    data[g_cols[0]] = data[g_cols[0]].fillna(0)\n",
    "    data[g_cols[1]] = data[g_cols[1]].fillna(0)\n",
    "\n",
    "    for col in g_cols[2:]:\n",
    "        data[col] = data[col].fillna('AB')\n",
    "    \n",
    "    data['GarageArea'].fillna(0, inplace = True)\n",
    "    \n",
    "    # Other Columns\n",
    "    \n",
    "    for col in data.columns:\n",
    "        if data[col].isnull().sum()>0:\n",
    "            mode = data[col].mode()\n",
    "            data[col].fillna(mode.tolist()[0], inplace = True)\n",
    "            \n",
    "    return data"
   ]
  },
  {
   "cell_type": "code",
   "execution_count": 42,
   "metadata": {},
   "outputs": [],
   "source": [
    "train = pd.read_csv('./data/train (1).csv')\n",
    "train = missing_pipeline(train)"
   ]
  },
  {
   "cell_type": "code",
   "execution_count": 43,
   "metadata": {},
   "outputs": [],
   "source": [
    "train['log_sale'] = np.log(train['SalePrice'])\n",
    "train.drop('SalePrice', 1, inplace = True)"
   ]
  },
  {
   "cell_type": "code",
   "execution_count": 44,
   "metadata": {},
   "outputs": [],
   "source": [
    "train.drop('Id', axis = 1, inplace = True)"
   ]
  },
  {
   "cell_type": "markdown",
   "metadata": {},
   "source": [
    "### LABEL ENCODING"
   ]
  },
  {
   "cell_type": "markdown",
   "metadata": {},
   "source": [
    "Typically we should one-hot encode this dataset but that would result in thousands of rows. So lets Label Encode them"
   ]
  },
  {
   "cell_type": "code",
   "execution_count": 45,
   "metadata": {},
   "outputs": [],
   "source": [
    "cat_cols = [col for col in train.columns if train[col].dtype =='O']"
   ]
  },
  {
   "cell_type": "code",
   "execution_count": 46,
   "metadata": {},
   "outputs": [],
   "source": [
    "encodings = {}"
   ]
  },
  {
   "cell_type": "code",
   "execution_count": 47,
   "metadata": {},
   "outputs": [],
   "source": [
    "def encoding(dataset, column, train_set = False):\n",
    "    \n",
    "    encoding = []\n",
    "    if train_set:\n",
    "        encodings[column] = dataset[column].unique().tolist()\n",
    "    list_ = dataset[column].to_list()\n",
    "    \n",
    "    for i in list_:\n",
    "        encoding.append(encodings[column].index(i))\n",
    "    \n",
    "    return encoding"
   ]
  },
  {
   "cell_type": "code",
   "execution_count": 48,
   "metadata": {},
   "outputs": [],
   "source": [
    "for col in cat_cols:\n",
    "    train[col] = encoding(train, col, True)"
   ]
  },
  {
   "cell_type": "code",
   "execution_count": 49,
   "metadata": {},
   "outputs": [],
   "source": [
    "from sklearn.model_selection import train_test_split"
   ]
  },
  {
   "cell_type": "code",
   "execution_count": 50,
   "metadata": {},
   "outputs": [],
   "source": [
    "X_train, X_test, y_train, y_test = train_test_split(train.drop('log_sale',1), train['log_sale'], test_size = 0.2)"
   ]
  },
  {
   "cell_type": "markdown",
   "metadata": {},
   "source": [
    "### MODEL BUILDING"
   ]
  },
  {
   "cell_type": "code",
   "execution_count": 51,
   "metadata": {},
   "outputs": [],
   "source": [
    "from sklearn.ensemble import RandomForestRegressor, GradientBoostingRegressor\n",
    "from sklearn.svm import SVR\n",
    "from sklearn.linear_model import LinearRegression, ElasticNet, Lasso, Ridge"
   ]
  },
  {
   "cell_type": "code",
   "execution_count": 52,
   "metadata": {},
   "outputs": [],
   "source": [
    "from xgboost import XGBRegressor as XGB"
   ]
  },
  {
   "cell_type": "code",
   "execution_count": 53,
   "metadata": {},
   "outputs": [],
   "source": [
    "models = [('rf', RandomForestRegressor()),\n",
    "          ('GBT', GradientBoostingRegressor()),\n",
    "          ('SVR', SVR()),\n",
    "          ('LR', LinearRegression()),\n",
    "          ('Elastic', ElasticNet()),\n",
    "          ('Lasso', Lasso()),\n",
    "          ('Ridge', Ridge()),\n",
    "          ('XGBR', XGB())]"
   ]
  },
  {
   "cell_type": "code",
   "execution_count": 54,
   "metadata": {},
   "outputs": [],
   "source": [
    "score = {'Model':[],\n",
    "         'train':[],\n",
    "         'test':[],\n",
    "         'rmse': []}"
   ]
  },
  {
   "cell_type": "code",
   "execution_count": 55,
   "metadata": {},
   "outputs": [],
   "source": [
    "from sklearn.metrics import mean_squared_error as mse"
   ]
  },
  {
   "cell_type": "code",
   "execution_count": 56,
   "metadata": {},
   "outputs": [],
   "source": [
    "def model_score(model_info):\n",
    "\n",
    "    name = model_info[0]\n",
    "    model = model_info[1]\n",
    "    \n",
    "    model.fit(X_train , y_train)\n",
    "    \n",
    "    score['Model'].append(name)\n",
    "    score['train'].append(model.score(X_train, y_train))\n",
    "    score['test'].append(model.score(X_test, y_test))\n",
    "    \n",
    "    preds = model.predict(X_test)\n",
    "    score['rmse'].append(np.sqrt(mse(y_test, preds)))"
   ]
  },
  {
   "cell_type": "code",
   "execution_count": 57,
   "metadata": {},
   "outputs": [
    {
     "name": "stdout",
     "output_type": "stream",
     "text": [
      "[19:47:16] WARNING: src/objective/regression_obj.cu:152: reg:linear is now deprecated in favor of reg:squarederror.\n"
     ]
    }
   ],
   "source": [
    "for model_ in models:\n",
    "    model_score(model_)"
   ]
  },
  {
   "cell_type": "code",
   "execution_count": 58,
   "metadata": {},
   "outputs": [
    {
     "data": {
      "text/html": [
       "<div>\n",
       "<style scoped>\n",
       "    .dataframe tbody tr th:only-of-type {\n",
       "        vertical-align: middle;\n",
       "    }\n",
       "\n",
       "    .dataframe tbody tr th {\n",
       "        vertical-align: top;\n",
       "    }\n",
       "\n",
       "    .dataframe thead th {\n",
       "        text-align: right;\n",
       "    }\n",
       "</style>\n",
       "<table border=\"1\" class=\"dataframe\">\n",
       "  <thead>\n",
       "    <tr style=\"text-align: right;\">\n",
       "      <th></th>\n",
       "      <th>Model</th>\n",
       "      <th>train</th>\n",
       "      <th>test</th>\n",
       "      <th>rmse</th>\n",
       "    </tr>\n",
       "  </thead>\n",
       "  <tbody>\n",
       "    <tr>\n",
       "      <th>0</th>\n",
       "      <td>rf</td>\n",
       "      <td>0.973329</td>\n",
       "      <td>0.883900</td>\n",
       "      <td>0.132255</td>\n",
       "    </tr>\n",
       "    <tr>\n",
       "      <th>1</th>\n",
       "      <td>GBT</td>\n",
       "      <td>0.960201</td>\n",
       "      <td>0.910858</td>\n",
       "      <td>0.115887</td>\n",
       "    </tr>\n",
       "    <tr>\n",
       "      <th>2</th>\n",
       "      <td>SVR</td>\n",
       "      <td>0.936552</td>\n",
       "      <td>0.000996</td>\n",
       "      <td>0.387954</td>\n",
       "    </tr>\n",
       "    <tr>\n",
       "      <th>3</th>\n",
       "      <td>LR</td>\n",
       "      <td>0.883774</td>\n",
       "      <td>0.907607</td>\n",
       "      <td>0.117982</td>\n",
       "    </tr>\n",
       "    <tr>\n",
       "      <th>4</th>\n",
       "      <td>Elastic</td>\n",
       "      <td>0.781507</td>\n",
       "      <td>0.831739</td>\n",
       "      <td>0.159216</td>\n",
       "    </tr>\n",
       "    <tr>\n",
       "      <th>5</th>\n",
       "      <td>Lasso</td>\n",
       "      <td>0.761638</td>\n",
       "      <td>0.818477</td>\n",
       "      <td>0.165372</td>\n",
       "    </tr>\n",
       "    <tr>\n",
       "      <th>6</th>\n",
       "      <td>Ridge</td>\n",
       "      <td>0.883509</td>\n",
       "      <td>0.907493</td>\n",
       "      <td>0.118055</td>\n",
       "    </tr>\n",
       "    <tr>\n",
       "      <th>7</th>\n",
       "      <td>XGBR</td>\n",
       "      <td>0.952205</td>\n",
       "      <td>0.913996</td>\n",
       "      <td>0.113830</td>\n",
       "    </tr>\n",
       "  </tbody>\n",
       "</table>\n",
       "</div>"
      ],
      "text/plain": [
       "     Model     train      test      rmse\n",
       "0       rf  0.973329  0.883900  0.132255\n",
       "1      GBT  0.960201  0.910858  0.115887\n",
       "2      SVR  0.936552  0.000996  0.387954\n",
       "3       LR  0.883774  0.907607  0.117982\n",
       "4  Elastic  0.781507  0.831739  0.159216\n",
       "5    Lasso  0.761638  0.818477  0.165372\n",
       "6    Ridge  0.883509  0.907493  0.118055\n",
       "7     XGBR  0.952205  0.913996  0.113830"
      ]
     },
     "execution_count": 58,
     "metadata": {},
     "output_type": "execute_result"
    }
   ],
   "source": [
    "pd.DataFrame(score)"
   ]
  },
  {
   "cell_type": "markdown",
   "metadata": {},
   "source": [
    "### ENSEMBLE :"
   ]
  },
  {
   "cell_type": "code",
   "execution_count": 59,
   "metadata": {},
   "outputs": [],
   "source": [
    "def ensemble(Models, q_set, a_set = None, testing = False):\n",
    "    \n",
    "    predictions = []\n",
    "    \n",
    "    model_list = []\n",
    "    \n",
    "    for Model in Models:\n",
    "        \n",
    "        Model = Model[1]\n",
    "        Model.fit(X_train, y_train)\n",
    "        model_list.append(Model)\n",
    "        \n",
    "        predictions.append(Model.predict(X_train))\n",
    "    \n",
    "    predictions = np.transpose(np.array(predictions))\n",
    "    print(predictions.shape)\n",
    "    \n",
    "    model = XGB()\n",
    "    model.fit(predictions, y_train)\n",
    "    \n",
    "    preds_1 = []\n",
    "    \n",
    "    for m in model_list:\n",
    "        preds_1.append(m.predict(q_set))        \n",
    "    \n",
    "    preds_1 = np.transpose(preds_1)\n",
    "    prediction = model.predict(np.array(preds_1))\n",
    "    \n",
    "    if testing:\n",
    "        return prediction\n",
    "    \n",
    "    else:\n",
    "        score = np.sqrt(mse(y_test, prediction)) # score on validation dataset\n",
    "        return [prediction, score]"
   ]
  },
  {
   "cell_type": "markdown",
   "metadata": {},
   "source": [
    "### SUBMISSIONS:"
   ]
  },
  {
   "cell_type": "code",
   "execution_count": 61,
   "metadata": {},
   "outputs": [],
   "source": [
    "test = pd.read_csv('./data/test (1).csv')\n",
    "\n",
    "test = missing_pipeline(test)\n",
    "\n",
    "for col in cat_cols:\n",
    "    test[col] = encoding(test, col, False)"
   ]
  },
  {
   "cell_type": "code",
   "execution_count": 62,
   "metadata": {},
   "outputs": [],
   "source": [
    "Id= test['Id']"
   ]
  },
  {
   "cell_type": "code",
   "execution_count": 63,
   "metadata": {},
   "outputs": [],
   "source": [
    "test.drop('Id', axis = 1, inplace = True)"
   ]
  },
  {
   "cell_type": "code",
   "execution_count": 64,
   "metadata": {},
   "outputs": [],
   "source": [
    "def submit(models, n): \n",
    "    \n",
    "    predictions = ensemble(models, test, testing = True)\n",
    "    submission = {'Id': Id,\n",
    "                  'SalePrice': np.exp(predictions)}\n",
    "    submission = pd.DataFrame(submission)\n",
    "    submission.to_csv(r'./data/preds/sub_{}.csv'.format(n), index = False)"
   ]
  },
  {
   "cell_type": "markdown",
   "metadata": {},
   "source": [
    "### 1. Ensemble Predict"
   ]
  },
  {
   "cell_type": "code",
   "execution_count": 65,
   "metadata": {},
   "outputs": [],
   "source": [
    "models = [('rf', RandomForestRegressor()),\n",
    "          ('GBT', GradientBoostingRegressor()),\n",
    "          ('SVR', SVR()),\n",
    "          ('LR', LinearRegression()),\n",
    "          ('Elastic', ElasticNet()),\n",
    "          ('Lasso', Lasso()),\n",
    "          ('Ridge', Ridge()),\n",
    "          ('XGBR', XGB())]"
   ]
  },
  {
   "cell_type": "code",
   "execution_count": 66,
   "metadata": {},
   "outputs": [
    {
     "data": {
      "text/plain": [
       "(1168, 80)"
      ]
     },
     "execution_count": 66,
     "metadata": {},
     "output_type": "execute_result"
    }
   ],
   "source": [
    "X_train.shape"
   ]
  },
  {
   "cell_type": "code",
   "execution_count": 67,
   "metadata": {},
   "outputs": [
    {
     "name": "stdout",
     "output_type": "stream",
     "text": [
      "[19:47:32] WARNING: src/objective/regression_obj.cu:152: reg:linear is now deprecated in favor of reg:squarederror.\n",
      "(1168, 8)\n",
      "[19:47:32] WARNING: src/objective/regression_obj.cu:152: reg:linear is now deprecated in favor of reg:squarederror.\n"
     ]
    }
   ],
   "source": [
    "submit(models, 1)"
   ]
  },
  {
   "cell_type": "markdown",
   "metadata": {},
   "source": [
    "### 2. XGB, Gradient Boost, Random Forest:"
   ]
  },
  {
   "cell_type": "code",
   "execution_count": 68,
   "metadata": {},
   "outputs": [],
   "source": [
    "models = [('rf', RandomForestRegressor()),\n",
    "          ('GBT', GradientBoostingRegressor()),\n",
    "          ('XGBR', XGB())]"
   ]
  },
  {
   "cell_type": "code",
   "execution_count": 69,
   "metadata": {},
   "outputs": [
    {
     "name": "stdout",
     "output_type": "stream",
     "text": [
      "[19:47:33] WARNING: src/objective/regression_obj.cu:152: reg:linear is now deprecated in favor of reg:squarederror.\n",
      "(1168, 3)\n",
      "[19:47:34] WARNING: src/objective/regression_obj.cu:152: reg:linear is now deprecated in favor of reg:squarederror.\n"
     ]
    }
   ],
   "source": [
    "submit(models, 2)"
   ]
  },
  {
   "cell_type": "markdown",
   "metadata": {},
   "source": [
    "### 3. XGBoost"
   ]
  },
  {
   "cell_type": "code",
   "execution_count": 70,
   "metadata": {},
   "outputs": [],
   "source": [
    "models = [('XGBR', XGB(n_estimators = 200))]"
   ]
  },
  {
   "cell_type": "code",
   "execution_count": 71,
   "metadata": {},
   "outputs": [
    {
     "name": "stdout",
     "output_type": "stream",
     "text": [
      "[19:47:34] WARNING: src/objective/regression_obj.cu:152: reg:linear is now deprecated in favor of reg:squarederror.\n",
      "(1168, 1)\n",
      "[19:47:34] WARNING: src/objective/regression_obj.cu:152: reg:linear is now deprecated in favor of reg:squarederror.\n"
     ]
    }
   ],
   "source": [
    "submit(models, 3)"
   ]
  },
  {
   "cell_type": "markdown",
   "metadata": {},
   "source": [
    "### 4. RandomForest:"
   ]
  },
  {
   "cell_type": "code",
   "execution_count": 72,
   "metadata": {},
   "outputs": [],
   "source": [
    "param_grid = {'n_estimators':np.arange(10,70,10),\n",
    "                 'max_features':np.arange(0.1, 1, 0.1),\n",
    "                 'bootstrap':[True, False]}"
   ]
  },
  {
   "cell_type": "code",
   "execution_count": 73,
   "metadata": {},
   "outputs": [],
   "source": [
    "from sklearn.model_selection import RandomizedSearchCV"
   ]
  },
  {
   "cell_type": "code",
   "execution_count": 74,
   "metadata": {},
   "outputs": [],
   "source": [
    "clf = RandomizedSearchCV(RandomForestRegressor(), param_grid).fit(X_train, y_train)"
   ]
  },
  {
   "cell_type": "code",
   "execution_count": 75,
   "metadata": {},
   "outputs": [
    {
     "data": {
      "text/plain": [
       "RandomForestRegressor(bootstrap=False, criterion='mse', max_depth=None,\n",
       "                      max_features=0.2, max_leaf_nodes=None,\n",
       "                      min_impurity_decrease=0.0, min_impurity_split=None,\n",
       "                      min_samples_leaf=1, min_samples_split=2,\n",
       "                      min_weight_fraction_leaf=0.0, n_estimators=40,\n",
       "                      n_jobs=None, oob_score=False, random_state=None,\n",
       "                      verbose=0, warm_start=False)"
      ]
     },
     "execution_count": 75,
     "metadata": {},
     "output_type": "execute_result"
    }
   ],
   "source": [
    "clf.best_estimator_"
   ]
  },
  {
   "cell_type": "code",
   "execution_count": 76,
   "metadata": {},
   "outputs": [],
   "source": [
    "model = [('rf', clf.best_estimator_)]"
   ]
  },
  {
   "cell_type": "code",
   "execution_count": 77,
   "metadata": {},
   "outputs": [
    {
     "name": "stdout",
     "output_type": "stream",
     "text": [
      "(1168, 1)\n",
      "[19:47:46] WARNING: src/objective/regression_obj.cu:152: reg:linear is now deprecated in favor of reg:squarederror.\n"
     ]
    }
   ],
   "source": [
    "submit(model, 4)"
   ]
  },
  {
   "cell_type": "markdown",
   "metadata": {},
   "source": [
    "### 5. Gradient Boosting Trees:"
   ]
  },
  {
   "cell_type": "code",
   "execution_count": 78,
   "metadata": {},
   "outputs": [],
   "source": [
    "params = {'max_depth': np.arange(3,9,1),\n",
    "          'max_features': np.arange(0.1, 1, 0.1),\n",
    "          'subsample': [0.1, 0.5, 1]}"
   ]
  },
  {
   "cell_type": "code",
   "execution_count": 79,
   "metadata": {},
   "outputs": [],
   "source": [
    "clf_g = RandomizedSearchCV(GradientBoostingRegressor(), params).fit(X_train, y_train)"
   ]
  },
  {
   "cell_type": "code",
   "execution_count": 80,
   "metadata": {},
   "outputs": [
    {
     "name": "stdout",
     "output_type": "stream",
     "text": [
      "(1168, 1)\n",
      "[19:47:53] WARNING: src/objective/regression_obj.cu:152: reg:linear is now deprecated in favor of reg:squarederror.\n"
     ]
    }
   ],
   "source": [
    "model = [('rf', clf.best_estimator_)]\n",
    "submit(model, 5)"
   ]
  },
  {
   "cell_type": "markdown",
   "metadata": {},
   "source": [
    "### Optimizing XGB:"
   ]
  },
  {
   "cell_type": "code",
   "execution_count": 81,
   "metadata": {},
   "outputs": [
    {
     "name": "stdout",
     "output_type": "stream",
     "text": [
      "[19:47:53] WARNING: src/objective/regression_obj.cu:152: reg:linear is now deprecated in favor of reg:squarederror.\n"
     ]
    },
    {
     "data": {
      "text/plain": [
       "0.918408229440302"
      ]
     },
     "execution_count": 81,
     "metadata": {},
     "output_type": "execute_result"
    }
   ],
   "source": [
    "model = XGB(n_estimators = 200, max_depth = 3, learning_rate = 0.1)\n",
    "model.fit(X_train, y_train)\n",
    "model.score(X_test, y_test)"
   ]
  },
  {
   "cell_type": "markdown",
   "metadata": {},
   "source": [
    "### 6. GBT + XGB + RF"
   ]
  },
  {
   "cell_type": "code",
   "execution_count": 82,
   "metadata": {},
   "outputs": [],
   "source": [
    "models = [('rf', clf.best_estimator_),\n",
    "          ('gbt', clf_g.best_estimator_),\n",
    "          ('XGB', XGB(n_estimators = 200, max_depth = 3, learning_rate = 0.1))]"
   ]
  },
  {
   "cell_type": "code",
   "execution_count": 83,
   "metadata": {},
   "outputs": [
    {
     "name": "stdout",
     "output_type": "stream",
     "text": [
      "[19:47:54] WARNING: src/objective/regression_obj.cu:152: reg:linear is now deprecated in favor of reg:squarederror.\n",
      "(1168, 3)\n",
      "[19:47:54] WARNING: src/objective/regression_obj.cu:152: reg:linear is now deprecated in favor of reg:squarederror.\n"
     ]
    }
   ],
   "source": [
    "submit(models, 6)"
   ]
  },
  {
   "cell_type": "markdown",
   "metadata": {},
   "source": [
    "### 7. ElasticNet + XGB + RF"
   ]
  },
  {
   "cell_type": "code",
   "execution_count": 84,
   "metadata": {},
   "outputs": [],
   "source": [
    "models = [('rf', clf.best_estimator_),\n",
    "          ('EN', ElasticNet()),\n",
    "          ('XGB', XGB(n_estimators = 200, max_depth = 3, learning_rate = 0.1))]"
   ]
  },
  {
   "cell_type": "code",
   "execution_count": 85,
   "metadata": {},
   "outputs": [
    {
     "name": "stdout",
     "output_type": "stream",
     "text": [
      "[19:47:55] WARNING: src/objective/regression_obj.cu:152: reg:linear is now deprecated in favor of reg:squarederror.\n",
      "(1168, 3)\n",
      "[19:47:55] WARNING: src/objective/regression_obj.cu:152: reg:linear is now deprecated in favor of reg:squarederror.\n"
     ]
    }
   ],
   "source": [
    "submit(models, 7)"
   ]
  }
 ],
 "metadata": {
  "kernelspec": {
   "display_name": "Python 3",
   "language": "python",
   "name": "python3"
  },
  "language_info": {
   "codemirror_mode": {
    "name": "ipython",
    "version": 3
   },
   "file_extension": ".py",
   "mimetype": "text/x-python",
   "name": "python",
   "nbconvert_exporter": "python",
   "pygments_lexer": "ipython3",
   "version": "3.7.3"
  }
 },
 "nbformat": 4,
 "nbformat_minor": 2
}
